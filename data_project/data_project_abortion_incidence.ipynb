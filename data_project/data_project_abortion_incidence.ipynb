{
 "cells": [
  {
   "cell_type": "markdown",
   "metadata": {},
   "source": [
    "# Data Project \n",
    "\n",
    "\n",
    "\n",
    "Analysing data from the Global Abortion Incidence Dataset (https://osf.io/5k7fp/)"
   ]
  },
  {
   "cell_type": "code",
   "execution_count": null,
   "metadata": {},
   "outputs": [],
   "source": []
  }
 ],
 "metadata": {
  "kernelspec": {
   "display_name": "Python 3.10.4 64-bit",
   "language": "python",
   "name": "python3"
  },
  "language_info": {
   "name": "python",
   "version": "3.10.4"
  },
  "orig_nbformat": 4,
  "vscode": {
   "interpreter": {
    "hash": "be9c48b7f3984ad819d14f6f9e9ad00f762af4dd73407fbdba0e95c704d060ea"
   }
  }
 },
 "nbformat": 4,
 "nbformat_minor": 2
}
